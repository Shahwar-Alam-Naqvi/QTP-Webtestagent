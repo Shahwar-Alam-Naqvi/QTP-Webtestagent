{
 "cells": [
  {
   "cell_type": "code",
   "execution_count": null,
   "metadata": {},
   "outputs": [],
   "source": [
    "import asyncio\n",
    "import os\n",
    "\n",
    "# To recognise the project\n",
    "# import sys\n",
    "# sys.path.append('D:\\AI-2024-Services\\qtp-new')\n",
    "\n",
    "# To use important environment variables\n",
    "from dotenv import load_dotenv\n",
    "load_dotenv()\n",
    "\n",
    "# QAI\n",
    "from qai import QAILLMs\n",
    "llm = QAILLMs()\n",
    "\n",
    "async def objective(\n",
    "    model: str,\n",
    "    llm: QAILLMs,\n",
    "    user_message: str,    \n",
    "):\n",
    "    yield \"__OBJECTIVE START__\\n\"\n",
    "    await asyncio.sleep(1)\n",
    "    \n",
    "    response = await llm.openai.llm.__complete__(\n",
    "        model,\n",
    "        [{\"role\":\"system\",\n",
    "          \"content\":f\"\"\"You are a helpful assistant who is extremely brilliant in extracting information from the English sentences you see.\n",
    "The English sentences you will see are the user messages.\n",
    "You are supposed to generate an objective as we call it, which should contain the following things:\n",
    "\n",
    "- application_url : \n",
    "- objective : \n",
    "- jira_ids : \n",
    "- confluence urls : \"\"\"},\n",
    "         {\"role\":\"user\",\"content\":user_message}]\n",
    "    )\n",
    "        \n",
    "    print(f\"Response: {response}\\n\")\n",
    "    await asyncio.sleep(1)\n",
    "    yield \"__OBJECTIVE_END__\\n\"\n",
    "\n",
    "async def main():\n",
    "    async for result_part in objective(model=\"gpt-4o\", llm=llm, user_message=\"I want to test www.google.com\"):\n",
    "        print(f\"Result Part : {result_part}\")\n",
    "\n",
    "asyncio.run(main())\n"
   ]
  },
  {
   "cell_type": "code",
   "execution_count": null,
   "metadata": {},
   "outputs": [],
   "source": []
  }
 ],
 "metadata": {
  "kernelspec": {
   "display_name": "qtp_pack",
   "language": "python",
   "name": "python3"
  },
  "language_info": {
   "name": "python",
   "version": "3.11.9"
  }
 },
 "nbformat": 4,
 "nbformat_minor": 2
}
